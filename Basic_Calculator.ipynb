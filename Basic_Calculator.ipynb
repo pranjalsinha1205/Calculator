{
  "nbformat": 4,
  "nbformat_minor": 0,
  "metadata": {
    "colab": {
      "provenance": [],
      "authorship_tag": "ABX9TyNeZjGSsTf/6LxALDbWlp9I",
      "include_colab_link": true
    },
    "kernelspec": {
      "name": "python3",
      "display_name": "Python 3"
    },
    "language_info": {
      "name": "python"
    }
  },
  "cells": [
    {
      "cell_type": "markdown",
      "metadata": {
        "id": "view-in-github",
        "colab_type": "text"
      },
      "source": [
        "<a href=\"https://colab.research.google.com/github/pranjalsinha1205/Calculator/blob/main/Basic_Calculator.ipynb\" target=\"_parent\"><img src=\"https://colab.research.google.com/assets/colab-badge.svg\" alt=\"Open In Colab\"/></a>"
      ]
    },
    {
      "cell_type": "code",
      "source": [
        "def calc():\n",
        "  print(\"The mathematical symbols have their usual meanings\")\n",
        "  print(\"Start with '+' if you have a +ve integer\")\n",
        "  print(\"In case of a -ve integer start with '-'\")\n",
        "  print(\"To clear the ans just type 'cc'\")\n",
        "  print(\"To close the program just type '='\\n\")\n",
        "  ans = 0\n",
        "  o = ''\n",
        "  while o != '=':\n",
        "    o = input(\"Enter the operator: \")\n",
        "    if o == '=':\n",
        "      return ans\n",
        "    elif o == 'cc':\n",
        "      ans = 0\n",
        "      print(ans)\n",
        "    elif o not in ['+','-','=','*','/','//','**','%','cc']:\n",
        "      print('Invalid input! Start again!')\n",
        "    else:\n",
        "      try:\n",
        "        n = float(input(\"Enter the number: \"))\n",
        "        if o == '+':\n",
        "          ans += n\n",
        "          print(ans)\n",
        "        elif o == '-':\n",
        "          ans -= n\n",
        "          print(ans)\n",
        "        elif o == '*':\n",
        "          ans *= n\n",
        "          print(ans)\n",
        "        elif o == '/':\n",
        "          ans /= n\n",
        "          print(ans)\n",
        "        elif o == '//':\n",
        "          ans //= n\n",
        "          print(ans)\n",
        "        elif o == '**':\n",
        "          ans **= n\n",
        "          print(ans)\n",
        "        elif o == '%':\n",
        "          ans %= n\n",
        "          print(ans)\n",
        "      except ZeroDivisionError:\n",
        "        print(\"Denominator cannot be 0\")\n",
        "        print(ans)\n",
        "      except ValueError:\n",
        "        print(\"Only numbers are allowed!\")\n",
        "        print(ans)"
      ],
      "metadata": {
        "id": "pSXJMQyrHQXj"
      },
      "execution_count": 26,
      "outputs": []
    }
  ]
}