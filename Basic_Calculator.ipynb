{
  "nbformat": 4,
  "nbformat_minor": 0,
  "metadata": {
    "colab": {
      "provenance": [],
      "authorship_tag": "ABX9TyMzBf7KHpJxqQvVR3GUZzFr",
      "include_colab_link": true
    },
    "kernelspec": {
      "name": "python3",
      "display_name": "Python 3"
    },
    "language_info": {
      "name": "python"
    }
  },
  "cells": [
    {
      "cell_type": "markdown",
      "metadata": {
        "id": "view-in-github",
        "colab_type": "text"
      },
      "source": [
        "<a href=\"https://colab.research.google.com/github/pranjalsinha1205/Calculator/blob/main/Basic_Calculator.ipynb\" target=\"_parent\"><img src=\"https://colab.research.google.com/assets/colab-badge.svg\" alt=\"Open In Colab\"/></a>"
      ]
    },
    {
      "cell_type": "code",
      "source": [
        "def calc():\n",
        "  print(\"The mathematical symbols have their usual meanings\")\n",
        "  print(\"Start with '+' if you have a +ve integer\")\n",
        "  print(\"In case of a -ve integer start with '-'\")\n",
        "  print(\"To clear the ans just type 'cc'\")\n",
        "  print(\"To close the program just type '='\\n\")\n",
        "  import math\n",
        "  ans = 0\n",
        "  o = ''\n",
        "  while o != '=':\n",
        "    o = input(\"Enter the operator: \")\n",
        "    if o == '=':\n",
        "      break\n",
        "    elif o == 'cc':\n",
        "      ans = 0\n",
        "      print(ans)\n",
        "    elif o not in ['+','-','=','*','/','//','**','%','cc']:\n",
        "      print('Invalid input! Start again!')\n",
        "    else:\n",
        "      n = float(input(\"Enter the number: \"))\n",
        "      if o == '+':\n",
        "        ans += n\n",
        "        print(ans)\n",
        "      elif o == '-':\n",
        "        ans -= n\n",
        "        print(ans)\n",
        "      elif o == '*':\n",
        "        ans *= n\n",
        "        print(ans)\n",
        "      elif o == '/':\n",
        "        ans /= n\n",
        "        print(ans)\n",
        "      elif o == '//':\n",
        "        ans //= n\n",
        "        print(ans)\n",
        "      elif o == '**':\n",
        "        ans **= n\n",
        "        print(ans)\n",
        "      elif o == '%':\n",
        "        ans %= n\n",
        "        print(ans)\n",
        "  return ans"
      ],
      "metadata": {
        "id": "pSXJMQyrHQXj"
      },
      "execution_count": 77,
      "outputs": []
    },
    {
      "cell_type": "code",
      "source": [
        "calc()"
      ],
      "metadata": {
        "colab": {
          "base_uri": "https://localhost:8080/"
        },
        "id": "jxEouJxqHlt3",
        "outputId": "f031fa76-1fd7-45d2-d5cf-d7844aeed544"
      },
      "execution_count": 79,
      "outputs": [
        {
          "name": "stdout",
          "output_type": "stream",
          "text": [
            "The mathematical symbols have their usual meanings\n",
            "Start with '+' if you have a +ve integer\n",
            "In case of a -ve integer start with '-'\n",
            "To clear the ans just type 'cc'\n",
            "To close the program just type '='\n",
            "\n",
            "Enter the operator: cc\n",
            "0\n",
            "Enter the operator: +\n",
            "Enter the number: 8\n",
            "8.0\n",
            "Enter the operator: *\n",
            "Enter the number: 9\n",
            "72.0\n",
            "Enter the operator: cc\n",
            "0\n",
            "Enter the operator: *\n",
            "Enter the number: 8\n",
            "0.0\n",
            "Enter the operator: +\n",
            "Enter the number: 7\n",
            "7.0\n",
            "Enter the operator: =\n"
          ]
        },
        {
          "output_type": "execute_result",
          "data": {
            "text/plain": [
              "7.0"
            ]
          },
          "metadata": {},
          "execution_count": 79
        }
      ]
    }
  ]
}