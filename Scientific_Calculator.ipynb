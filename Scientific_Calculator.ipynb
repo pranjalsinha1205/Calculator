{
  "nbformat": 4,
  "nbformat_minor": 0,
  "metadata": {
    "colab": {
      "provenance": [],
      "authorship_tag": "ABX9TyOCX4tsKXejDdf3B6p2PGoH",
      "include_colab_link": true
    },
    "kernelspec": {
      "name": "python3",
      "display_name": "Python 3"
    },
    "language_info": {
      "name": "python"
    }
  },
  "cells": [
    {
      "cell_type": "markdown",
      "metadata": {
        "id": "view-in-github",
        "colab_type": "text"
      },
      "source": [
        "<a href=\"https://colab.research.google.com/github/pranjalsinha1205/Calculator/blob/main/Scientific_Calculator.ipynb\" target=\"_parent\"><img src=\"https://colab.research.google.com/assets/colab-badge.svg\" alt=\"Open In Colab\"/></a>"
      ]
    },
    {
      "cell_type": "code",
      "execution_count": 27,
      "metadata": {
        "id": "ASiqXqp9zztW"
      },
      "outputs": [],
      "source": [
        "def calc():\n",
        "  print(\"The calculation starts at 0\")\n",
        "  print(\"The mathematical symbols have their usual meanings\")\n",
        "  print(\"Start with '+' if you have a +ve integer\")\n",
        "  print(\"In case of a -ve integer start with '-'\")\n",
        "  print(\"To clear the ans just type 'cc'\")\n",
        "  print(\"To close the program just type '='\\n\")\n",
        "  ans = 0\n",
        "  o = ''\n",
        "  import math\n",
        "  while o != '=':\n",
        "    o = input(\"Enter the operator: \")\n",
        "    if o == '=':\n",
        "      return 'The final answer is '+str(ans)\n",
        "    elif o == 'cc':\n",
        "      ans = 0\n",
        "      print(ans)\n",
        "    elif o not in ['+','-','=','*','/','//','**','%','cc','sin','cos','tan','cot','cosec','sec','log']:\n",
        "      print('Invalid input! Start again!')\n",
        "    else:\n",
        "      try:\n",
        "        n = float(input(\"Enter the number: \"))\n",
        "        if o == '+':\n",
        "          ans += n\n",
        "          print(ans)\n",
        "        elif o == '-':\n",
        "          ans -= n\n",
        "          print(ans)\n",
        "        elif o == '*':\n",
        "          ans *= n\n",
        "          print(ans)\n",
        "        elif o == '/':\n",
        "          ans /= n\n",
        "          print(ans)\n",
        "        elif o == '//':\n",
        "          ans //= n\n",
        "          print(ans)\n",
        "        elif o == '**':\n",
        "          ans **= n\n",
        "          print(ans)\n",
        "        elif o == '%':\n",
        "          ans %= n\n",
        "          print(ans)\n",
        "        elif o == 'sin':\n",
        "          ans += math.sin(n)\n",
        "          print(ans)\n",
        "        elif o == 'cos':\n",
        "          ans += math.cos(n)\n",
        "          print(ans)\n",
        "        elif o == 'tan':\n",
        "          ans += math.tan(n)\n",
        "          print(ans)\n",
        "        elif o == 'cot':\n",
        "          if math.sin(n) == 0:\n",
        "            print(\"Not defined\")\n",
        "          else:\n",
        "            ans += 1/math.tan(n)\n",
        "          print(ans)\n",
        "        elif o == 'cosec':\n",
        "          if math.sin(n) == 0:\n",
        "            print(\"Not defined\")\n",
        "          else:\n",
        "            ans += 1/math.sin(n)\n",
        "          print(ans)\n",
        "        elif o == 'sec':\n",
        "          if math.cos(n) == 0:\n",
        "            print(\"Not defined\")\n",
        "          else:\n",
        "            ans += 1/math.cos(n)\n",
        "          print(ans)\n",
        "        elif o == 'log':\n",
        "          if n <= 0:\n",
        "            print(\"Invalid input!\")\n",
        "          else:\n",
        "            ans += math.log(n)\n",
        "          print(ans)\n",
        "      except ZeroDivisionError:\n",
        "        print(\"Denominator cannot be 0\\n\"+str(ans))\n",
        "      except ValueError:\n",
        "        print(\"Only numbers are allowed!\\n\"+str(ans))"
      ]
    }
  ]
}